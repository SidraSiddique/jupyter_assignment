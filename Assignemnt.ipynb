{
 "cells": [
  {
   "cell_type": "code",
   "execution_count": 3,
   "id": "449db5ac-e587-46e1-8fa4-42f7d05bba43",
   "metadata": {},
   "outputs": [
    {
     "name": "stdout",
     "output_type": "stream",
     "text": [
      "Filtered users: ['Alice', 'Charlie', 'Eve']\n",
      "Top 10 oldest users: [(5, 'Eve', 40, 'Canada'), (1, 'Alice', 35, 'USA'), (3, 'Charlie', 32, 'USA'), (6, 'Alice', 29, 'USA'), (2, 'Bob', 28, 'Canada'), (4, 'David', 25, 'UK')]\n",
      "Duplicate names: ['Alice']\n"
     ]
    }
   ],
   "source": [
    "def filter_users(users):\n",
    "    return [user[1] for user in users if user[2] > 30 and user[3] in ['USA', 'Canada']]\n",
    "def get_top_10_oldest(users):\n",
    "    return sorted(users, key=lambda x: x[2], reverse=True)[:10]\n",
    "def find_duplicates(users):\n",
    "    names = [user[1] for user in users]\n",
    "    return [name for name in set(names) if names.count(name) > 1]\n",
    "users = [\n",
    "    (1, \"Alice\", 35, \"USA\"),\n",
    "    (2, \"Bob\", 28, \"Canada\"),\n",
    "    (3, \"Charlie\", 32, \"USA\"),\n",
    "    (4, \"David\", 25, \"UK\"),\n",
    "    (5, \"Eve\", 40, \"Canada\"),\n",
    "    (6, \"Alice\", 29, \"USA\")  \n",
    "]\n",
    "print(\"Filtered users:\", filter_users(users))\n",
    "print(\"Top 10 oldest users:\", get_top_10_oldest(users))\n",
    "print(\"Duplicate names:\", find_duplicates(users))\n"
   ]
  },
  {
   "cell_type": "code",
   "execution_count": 4,
   "id": "5cec2353-6383-486b-8db4-0c2afe03e38b",
   "metadata": {},
   "outputs": [
    {
     "name": "stdout",
     "output_type": "stream",
     "text": [
      "Unique users: 3\n",
      "Highest transaction: (104, 3, 300, '2024-01-04')\n",
      "Transaction IDs and User IDs: ([101, 102, 103, 104], [1, 2, 1, 3])\n"
     ]
    }
   ],
   "source": [
    "def get_amount(transaction):\n",
    "    return transaction[2]\n",
    "def unique_users(transactions):\n",
    "    return len(set([transaction[1] for transaction in transactions]))\n",
    "def highest_transaction(transactions):\n",
    "    return max(transactions, key=get_amount) \n",
    "def extract_ids(transactions):\n",
    "    transaction_ids = [transaction[0] for transaction in transactions]\n",
    "    user_ids = [transaction[1] for transaction in transactions]\n",
    "    return transaction_ids, user_ids\n",
    "transactions = [\n",
    "    (101, 1, 100, \"2024-01-01\"),\n",
    "    (102, 2, 200, \"2024-01-02\"),\n",
    "    (103, 1, 150, \"2024-01-03\"),\n",
    "    (104, 3, 300, \"2024-01-04\")\n",
    "]\n",
    "print(\"Unique users:\", unique_users(transactions))\n",
    "print(\"Highest transaction:\", highest_transaction(transactions))\n",
    "print(\"Transaction IDs and User IDs:\", extract_ids(transactions))\n"
   ]
  },
  {
   "cell_type": "code",
   "execution_count": 5,
   "id": "e1f4dd83-d10c-4501-9615-c7152345ce72",
   "metadata": {},
   "outputs": [
    {
     "name": "stdout",
     "output_type": "stream",
     "text": [
      "Visited both A and B: {2, 3}\n",
      "Visited either A or C, but not both: {1, 2, 4, 5}\n",
      "Updated Page A: {1, 2, 3, 6, 7}\n",
      "Updated Page B: {3}\n"
     ]
    }
   ],
   "source": [
    "def visited_both(page_a, page_b):\n",
    "    return page_a & page_b\n",
    "def visited_either_not_both(page_a, page_c):\n",
    "    return page_a ^ page_c\n",
    "def update_page_a(page_a, new_users):\n",
    "    page_a.update(new_users)\n",
    "def remove_from_page_b(page_b, remove_users):\n",
    "    page_b.difference_update(remove_users)\n",
    "page_a = {1, 2, 3}\n",
    "page_b = {2, 3, 4}\n",
    "page_c = {3, 4, 5}\n",
    "print(\"Visited both A and B:\", visited_both(page_a, page_b))\n",
    "print(\"Visited either A or C, but not both:\", visited_either_not_both(page_a, page_c))\n",
    "update_page_a(page_a, {6, 7})\n",
    "print(\"Updated Page A:\", page_a)\n",
    "remove_from_page_b(page_b, {2, 4})\n",
    "print(\"Updated Page B:\", page_b)\n"
   ]
  },
  {
   "cell_type": "code",
   "execution_count": 6,
   "id": "6ddfdaeb-6b2d-4cc4-92e6-26851c3baf63",
   "metadata": {},
   "outputs": [
    {
     "name": "stdout",
     "output_type": "stream",
     "text": [
      "Filtered high ratings: {1: 5, 3: 4}\n",
      "Top 5 users by rating: {1: {'rating': 5, 'comments': 'Excellent'}, 3: {'rating': 4, 'comments': 'Very good'}, 2: {'rating': 3, 'comments': 'Good'}}\n",
      "Combined feedback: {1: {'rating': 5, 'comments': 'Great Awesome'}, 2: {'rating': 5, 'comments': 'Perfect'}, 3: {'rating': 3, 'comments': 'Okay'}}\n",
      "Users with rating > 3: {1: 5, 3: 4}\n"
     ]
    }
   ],
   "source": [
    "def get_rating(item):\n",
    "    return item[1]['rating']\n",
    "def filter_high_ratings(feedback):\n",
    "    return {user_id: details['rating'] for user_id, details in feedback.items() if details['rating'] >= 4}\n",
    "def top_5_users(feedback):\n",
    "    return dict(sorted(feedback.items(), key=get_rating, reverse=True)[:5])  # Using get_rating instead of lambda\n",
    "def combine_feedback(feedback_dicts):\n",
    "    combined = {}\n",
    "    for feedback in feedback_dicts:\n",
    "        for user_id, details in feedback.items():\n",
    "            if user_id in combined:\n",
    "                combined[user_id]['rating'] = max(combined[user_id]['rating'], details['rating'])\n",
    "                combined[user_id]['comments'] += ' ' + details['comments']\n",
    "            else:\n",
    "                combined[user_id] = details.copy()\n",
    "    return combined\n",
    "def high_ratings_dict(feedback):\n",
    "    return {user_id: details['rating'] for user_id, details in feedback.items() if details['rating'] > 3}\n",
    "feedback = {\n",
    "    1: {'rating': 5, 'comments': 'Excellent'},\n",
    "    2: {'rating': 3, 'comments': 'Good'},\n",
    "    3: {'rating': 4, 'comments': 'Very good'}\n",
    "}\n",
    "feedback1 = {\n",
    "    1: {'rating': 4, 'comments': 'Great'},\n",
    "    2: {'rating': 5, 'comments': 'Perfect'}\n",
    "}\n",
    "feedback2 = {\n",
    "    1: {'rating': 5, 'comments': 'Awesome'},\n",
    "    3: {'rating': 3, 'comments': 'Okay'}\n",
    "}\n",
    "print(\"Filtered high ratings:\", filter_high_ratings(feedback))\n",
    "print(\"Top 5 users by rating:\", top_5_users(feedback))\n",
    "print(\"Combined feedback:\", combine_feedback([feedback1, feedback2]))\n",
    "print(\"Users with rating > 3:\", high_ratings_dict(feedback))\n"
   ]
  },
  {
   "cell_type": "code",
   "execution_count": null,
   "id": "39b4ca24-625d-4529-8233-817a054987a2",
   "metadata": {},
   "outputs": [],
   "source": []
  }
 ],
 "metadata": {
  "kernelspec": {
   "display_name": "Python 3 (ipykernel)",
   "language": "python",
   "name": "python3"
  },
  "language_info": {
   "codemirror_mode": {
    "name": "ipython",
    "version": 3
   },
   "file_extension": ".py",
   "mimetype": "text/x-python",
   "name": "python",
   "nbconvert_exporter": "python",
   "pygments_lexer": "ipython3",
   "version": "3.11.1"
  }
 },
 "nbformat": 4,
 "nbformat_minor": 5
}
